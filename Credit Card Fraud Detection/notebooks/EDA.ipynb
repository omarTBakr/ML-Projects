version https://git-lfs.github.com/spec/v1
oid sha256:3e28b26e697decf4f5fb4c3d336bf8cccff8e75264ae634f8f9a8fd29d50ffd9
size 13257700
